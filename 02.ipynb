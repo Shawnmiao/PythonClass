{
 "cells": [
  {
   "cell_type": "markdown",
   "id": "b8cf6daf",
   "metadata": {},
   "source": [
    "## torch.nn.Module and torch.nn.Parameter"
   ]
  },
  {
   "cell_type": "markdown",
   "id": "b5c026de",
   "metadata": {},
   "source": [
    "Here's a very simple model with two linear layers and an activation function. We'll create an instance of it and ask it to report on its parameters:"
   ]
  },
  {
   "cell_type": "code",
   "execution_count": 1,
   "id": "3d9758b5",
   "metadata": {},
   "outputs": [
    {
     "name": "stdout",
     "output_type": "stream",
     "text": [
      "The model:\n",
      "TinyModel(\n",
      "  (linear1): Linear(in_features=100, out_features=200, bias=True)\n",
      "  (activation): ReLU()\n",
      "  (linear2): Linear(in_features=200, out_features=10, bias=True)\n",
      "  (softmax): Softmax(dim=None)\n",
      ")\n",
      "\n",
      "\n",
      "Just one layer:\n",
      "Linear(in_features=200, out_features=10, bias=True)\n",
      "\n",
      "\n",
      "Model params:\n",
      "torch.Size([200, 100])\n",
      "torch.Size([200])\n",
      "torch.Size([10, 200])\n",
      "torch.Size([10])\n",
      "\n",
      "\n",
      "Layer params:\n",
      "Parameter containing:\n",
      "tensor([[-0.0415,  0.0011, -0.0660,  ...,  0.0220,  0.0659, -0.0168],\n",
      "        [-0.0102, -0.0533, -0.0702,  ..., -0.0064, -0.0456,  0.0177],\n",
      "        [-0.0116,  0.0032,  0.0039,  ...,  0.0468,  0.0660,  0.0561],\n",
      "        ...,\n",
      "        [-0.0485,  0.0170,  0.0661,  ..., -0.0237, -0.0508, -0.0203],\n",
      "        [-0.0501,  0.0173, -0.0540,  ..., -0.0689,  0.0527, -0.0573],\n",
      "        [-0.0217,  0.0174,  0.0030,  ...,  0.0306, -0.0069,  0.0591]],\n",
      "       requires_grad=True)\n",
      "Parameter containing:\n",
      "tensor([-0.0632, -0.0615, -0.0703, -0.0494,  0.0173, -0.0616, -0.0666,  0.0669,\n",
      "         0.0001,  0.0240], requires_grad=True)\n"
     ]
    }
   ],
   "source": [
    "import torch\n",
    "\n",
    "class TinyModel(torch.nn.Module):\n",
    "    \n",
    "    def __init__(self):\n",
    "        super(TinyModel, self).__init__()\n",
    "        \n",
    "        self.linear1 = torch.nn.Linear(100, 200)\n",
    "        self.activation = torch.nn.ReLU()\n",
    "        self.linear2 = torch.nn.Linear(200, 10)\n",
    "        self.softmax = torch.nn.Softmax()\n",
    "    \n",
    "    def forward(self, x):\n",
    "        x = self.linear1(x)\n",
    "        x = self.activation(x)\n",
    "        x = self.linear2(x)\n",
    "        x = self.softmax(x)\n",
    "        return x\n",
    "\n",
    "tinymodel = TinyModel()\n",
    "\n",
    "print('The model:')\n",
    "print(tinymodel)\n",
    "\n",
    "print('\\n\\nJust one layer:')\n",
    "print(tinymodel.linear2)\n",
    "\n",
    "print('\\n\\nModel params:')\n",
    "for param in tinymodel.parameters():\n",
    "    print(param.shape)\n",
    "\n",
    "print('\\n\\nLayer params:')\n",
    "for param in tinymodel.linear2.parameters():\n",
    "    print(param)"
   ]
  },
  {
   "cell_type": "markdown",
   "id": "8506ebd1",
   "metadata": {},
   "source": [
    "### Linear Layers(or fully connected layer)"
   ]
  },
  {
   "cell_type": "markdown",
   "id": "7e21f3f8",
   "metadata": {},
   "source": [
    " If a model has m inputs and n outputs, the weights will be an m * n matrix."
   ]
  },
  {
   "cell_type": "code",
   "execution_count": 6,
   "id": "d7bf9462",
   "metadata": {},
   "outputs": [
    {
     "name": "stdout",
     "output_type": "stream",
     "text": [
      "Input:\n",
      "tensor([[0.3516, 0.7411, 0.6889]])\n",
      "\n",
      "\n",
      "Weight and Bias parameters:\n",
      "torch.Size([2, 3])\n",
      "torch.Size([2])\n",
      "\n",
      "\n",
      "Output:\n",
      "torch.Size([1, 2])\n"
     ]
    }
   ],
   "source": [
    "lin = torch.nn.Linear(3, 2)\n",
    "x = torch.rand(1, 3)\n",
    "print('Input:')\n",
    "print(x)\n",
    "\n",
    "print('\\n\\nWeight and Bias parameters:')\n",
    "for param in lin.parameters():\n",
    "    print(param.shape)\n",
    "\n",
    "y = lin(x)\n",
    "print('\\n\\nOutput:')\n",
    "print(y.shape)"
   ]
  },
  {
   "cell_type": "code",
   "execution_count": null,
   "id": "13b7e481",
   "metadata": {},
   "outputs": [],
   "source": []
  }
 ],
 "metadata": {
  "kernelspec": {
   "display_name": "Python 3 (ipykernel)",
   "language": "python",
   "name": "python3"
  },
  "language_info": {
   "codemirror_mode": {
    "name": "ipython",
    "version": 3
   },
   "file_extension": ".py",
   "mimetype": "text/x-python",
   "name": "python",
   "nbconvert_exporter": "python",
   "pygments_lexer": "ipython3",
   "version": "3.11.4"
  }
 },
 "nbformat": 4,
 "nbformat_minor": 5
}
